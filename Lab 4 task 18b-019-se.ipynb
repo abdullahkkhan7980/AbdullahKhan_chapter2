{
 "cells": [
  {
   "cell_type": "markdown",
   "metadata": {},
   "source": [
    "from math import sqrt\n",
    "a = int(input(\"Enter The value of a :\"))\n",
    "b = int(input(\"Enter the value of b :\"))\n",
    "c = int(input(\"Enter the value of c :\"))\n",
    "x = - b + sqrt(b**2 - 4*a*c)/2*a\n",
    "if a==0:\n",
    "    print(\"Sorry denominator cannot be zero\")\n",
    "print(x)\n"
   ]
  },
  {
   "cell_type": "markdown",
   "metadata": {},
   "source": [
    "from math import sqrt\n",
    "a = int(input(\"Enter The value of a :\"))\n",
    "b = int(input(\"Enter the value of b :\"))\n",
    "c = int(input(\"Enter the value of c :\"))\n",
    "x = - b + sqrt(b**2 - 4*a*c)/2*a\n",
    "if a==0:\n",
    "    print(\"Sorry denominator cannot be zero\")\n",
    "print(x)"
   ]
  },
  {
   "cell_type": "code",
   "execution_count": null,
   "metadata": {},
   "outputs": [],
   "source": []
  }
 ],
 "metadata": {
  "kernelspec": {
   "display_name": "Python 3",
   "language": "python",
   "name": "python3"
  },
  "language_info": {
   "codemirror_mode": {
    "name": "ipython",
    "version": 3
   },
   "file_extension": ".py",
   "mimetype": "text/x-python",
   "name": "python",
   "nbconvert_exporter": "python",
   "pygments_lexer": "ipython3",
   "version": "3.7.0"
  }
 },
 "nbformat": 4,
 "nbformat_minor": 2
}
