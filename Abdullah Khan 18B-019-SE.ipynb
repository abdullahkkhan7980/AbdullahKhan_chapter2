{
 "cells": [
  {
   "cell_type": "code",
   "execution_count": 2,
   "metadata": {},
   "outputs": [
    {
     "name": "stdout",
     "output_type": "stream",
     "text": [
      "1 day, 0:00:00\n"
     ]
    }
   ],
   "source": [
    "# CALCULATING DAYS BETWEEN THE TWO DATES \n",
    "from datetime import date\n",
    "f_date = date(2019, 8, 28)\n",
    "l_date = date(2019, 8, 29)\n",
    "variable_days = l_date - f_date\n",
    "print(variable_days)\n"
   ]
  },
  {
   "cell_type": "code",
   "execution_count": 13,
   "metadata": {},
   "outputs": [
    {
     "name": "stdout",
     "output_type": "stream",
     "text": [
      "The height of the lader is  -6.204506166550887\n"
     ]
    }
   ],
   "source": [
    "# CALCULATING HEIGHT LENGTH OF LADDER \n",
    "import math\n",
    "length = 16\n",
    "angle = 75\n",
    "height=math.sin (angle) * length\n",
    "print(\"The height of the lader is \",(height))"
   ]
  },
  {
   "cell_type": "code",
   "execution_count": 14,
   "metadata": {},
   "outputs": [
    {
     "name": "stdout",
     "output_type": "stream",
     "text": [
      "The height of the lader is  0.0\n"
     ]
    }
   ],
   "source": [
    "import math\n",
    "length = 20\n",
    "angle = 0\n",
    "height=math.sin (angle) * length\n",
    "print(\"The height of the lader is \",(height))"
   ]
  },
  {
   "cell_type": "code",
   "execution_count": 18,
   "metadata": {},
   "outputs": [
    {
     "name": "stdout",
     "output_type": "stream",
     "text": [
      "The height of the lader is  20.42168458881884\n"
     ]
    }
   ],
   "source": [
    "import math\n",
    "pi =3.142\n",
    "length = 24\n",
    "angle = 45\n",
    "radians = pi * angle / 180\n",
    "height=math.sin (angle) * length\n",
    "print(\"The height of the lader is \",(height))"
   ]
  },
  {
   "cell_type": "code",
   "execution_count": 17,
   "metadata": {},
   "outputs": [
    {
     "name": "stdout",
     "output_type": "stream",
     "text": [
      "The height of the lader is  -23.853327694161006\n"
     ]
    }
   ],
   "source": [
    "import math\n",
    "pi=3.142\n",
    "length = 24\n",
    "angle = 80\n",
    "radians = pi * angle / 180\n",
    "height=math.sin (angle) * length\n",
    "print(\"The height of the lader is \",(height))"
   ]
  },
  {
   "cell_type": "code",
   "execution_count": 7,
   "metadata": {},
   "outputs": [
    {
     "name": "stdout",
     "output_type": "stream",
     "text": [
      "[2, 4, 5, 6, 7, 8, 9, 10]\n"
     ]
    }
   ],
   "source": [
    "# Ascending Order\n",
    "numbers = [2,4,5,6,7,8,9,10] \n",
    "numbers.sort(reverse = True) \n",
    "print(numbers) "
   ]
  },
  {
   "cell_type": "code",
   "execution_count": 10,
   "metadata": {},
   "outputs": [
    {
     "name": "stdout",
     "output_type": "stream",
     "text": [
      "[10, 9, 8, 7, 6, 5, 4, 2]\n"
     ]
    }
   ],
   "source": [
    "# Descending Order\n",
    "numbers = [2,4,5,6,7,8,9,10]\n",
    "numbers.sort(reverse=True)\n",
    "print(numbers)"
   ]
  },
  {
   "cell_type": "code",
   "execution_count": 11,
   "metadata": {},
   "outputs": [
    {
     "name": "stdout",
     "output_type": "stream",
     "text": [
      "The index of 3 : 5\n",
      "The index of 4 : 2\n"
     ]
    }
   ],
   "source": [
    "# Index of the particular number in list \n",
    "number = ['1', '2', '4', '5', '6', '3']\n",
    "\n",
    "index = number.index('3')\n",
    "\n",
    "print('The index of 3 :', index)\n",
    "\n",
    "index = number.index('4')\n",
    "\n",
    "print('The index of 4 :', index)"
   ]
  },
  {
   "cell_type": "markdown",
   "metadata": {},
   "source": [
    "name=input"
   ]
  },
  {
   "cell_type": "code",
   "execution_count": 4,
   "metadata": {},
   "outputs": [
    {
     "name": "stdout",
     "output_type": "stream",
     "text": [
      "John fitzgerald kennedy\n",
      "9.5\n",
      "Johnfitzgeraldkennedy\n"
     ]
    }
   ],
   "source": [
    "# question 6\n",
    "a=6\n",
    "b=7\n",
    "c= a + b /2\n",
    "inventory = ['paper','staples','pencils']\n",
    "f_name='John'\n",
    "m_name='fitzgerald'\n",
    "l_name='kennedy'\n",
    "fullname= f_name +' '+ m_name +' '+ l_name\n",
    "fullname1=f_name + m_name +l_name\n",
    "print(fullname)\n",
    "print(c)\n",
    "print(fullname1)"
   ]
  },
  {
   "cell_type": "code",
   "execution_count": 2,
   "metadata": {},
   "outputs": [
    {
     "name": "stdout",
     "output_type": "stream",
     "text": [
      "['jan', 'feb', 'march', 'may', 'apr']\n"
     ]
    }
   ],
   "source": [
    "# Question 4\n",
    "monthsl=[\"jan\",\"feb\",\"march\",\"may\"]\n",
    "monthst=[\"jan\",\"feb\",\"march\",\"may\"]\n",
    "monthsl.insert(4,\"apr\")\n",
    "print(monthsl)"
   ]
  },
  {
   "cell_type": "code",
   "execution_count": 3,
   "metadata": {},
   "outputs": [
    {
     "name": "stdout",
     "output_type": "stream",
     "text": [
      "['jan', 'feb', 'march', 'may', 'jan']\n"
     ]
    }
   ],
   "source": [
    "monthsl=[\"jan\",\"feb\",\"march\",\"may\"]\n",
    "monthst=[\"jan\",\"feb\",\"march\",\"may\"]\n",
    "monthsl.append(\"jan\")\n",
    "print(monthsl)"
   ]
  },
  {
   "cell_type": "code",
   "execution_count": 10,
   "metadata": {},
   "outputs": [
    {
     "name": "stdout",
     "output_type": "stream",
     "text": [
      "['jan', 'feb', 'march', 'may', 'jan']\n"
     ]
    }
   ],
   "source": [
    "monthsl=[\"jan\",\"feb\",\"march\",\"may\"]\n",
    "monthst=[\"jan\",\"feb\",\"march\",\"may\"]\n",
    "monthsl.append(\"jan\")\n",
    "print(monthsl)"
   ]
  },
  {
   "cell_type": "code",
   "execution_count": 6,
   "metadata": {},
   "outputs": [
    {
     "name": "stdout",
     "output_type": "stream",
     "text": [
      "['may', 'march', 'jan', 'feb']\n"
     ]
    }
   ],
   "source": [
    "monthsl=['jan','feb','march','may']\n",
    "monthsl.sort(reverse = True)\n",
    "print(monthsl)"
   ]
  },
  {
   "cell_type": "code",
   "execution_count": 8,
   "metadata": {},
   "outputs": [
    {
     "name": "stdout",
     "output_type": "stream",
     "text": [
      "['feb', 'jan', 'march', 'may']\n"
     ]
    }
   ],
   "source": [
    "monthsl=['jan','feb','march','may']\n",
    "monthsl.sort(reverse = False)\n",
    "print(monthsl)"
   ]
  },
  {
   "cell_type": "code",
   "execution_count": 12,
   "metadata": {},
   "outputs": [
    {
     "name": "stdout",
     "output_type": "stream",
     "text": [
      "['jan', 'march', 'may']\n"
     ]
    }
   ],
   "source": [
    "monthsl=['jan','feb','march','may']\n",
    "monthsl.remove(\"feb\")\n",
    "print(monthsl)"
   ]
  },
  {
   "cell_type": "code",
   "execution_count": null,
   "metadata": {},
   "outputs": [],
   "source": []
  }
 ],
 "metadata": {
  "kernelspec": {
   "display_name": "Python 3",
   "language": "python",
   "name": "python3"
  },
  "language_info": {
   "codemirror_mode": {
    "name": "ipython",
    "version": 3
   },
   "file_extension": ".py",
   "mimetype": "text/x-python",
   "name": "python",
   "nbconvert_exporter": "python",
   "pygments_lexer": "ipython3",
   "version": "3.7.0"
  }
 },
 "nbformat": 4,
 "nbformat_minor": 2
}
