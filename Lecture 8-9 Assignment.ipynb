{
 "cells": [
  {
   "cell_type": "code",
   "execution_count": null,
   "metadata": {},
   "outputs": [],
   "source": [
    "# LECTURE 8-9 ASSIGNMENT "
   ]
  },
  {
   "cell_type": "code",
   "execution_count": 5,
   "metadata": {},
   "outputs": [
    {
     "name": "stdout",
     "output_type": "stream",
     "text": [
      "Enter the marks of maths out of 100: 100\n",
      "Enter the marks of urdu out of 100: 100\n",
      "Enter the marks of islamiat out of 100: 100\n",
      "Enter the marks of english out of 100: 60\n",
      "Enter the marks of pst out of 100: 44\n",
      "Your percentage is  80.80000000000001 %\n"
     ]
    }
   ],
   "source": [
    "#inter marksheet\n",
    "maths = float(input(\"Enter the marks of maths out of 100: \"))\n",
    "urdu = float(input(\"Enter the marks of urdu out of 100: \"))\n",
    "islamiat = float(input(\"Enter the marks of islamiat out of 100: \"))\n",
    "english = float(input(\"Enter the marks of english out of 100: \"))\n",
    "pst = float(input(\"Enter the marks of pst out of 100: \"))\n",
    "obt_marks=maths+urdu+islamiat+english+pst\n",
    "total_marks=500\n",
    "perc=obt_marks/total_marks*100\n",
    "if perc<80 :\n",
    "    print(\"A-one grade\")\n",
    "if perc<70 and perc>=60:\n",
    "    print(\"A-grade\")\n",
    "if perc<60 and perc>=55:\n",
    "    print(\"B-grade\")\n",
    "if perc<55 and perc>=50:\n",
    "    print(\"D grade\")\n",
    "if perc<50:\n",
    "    print(\"Fail\")\n",
    "print(\"Your percentage is \",perc,'%')"
   ]
  },
  {
   "cell_type": "code",
   "execution_count": 4,
   "metadata": {},
   "outputs": [
    {
     "name": "stdout",
     "output_type": "stream",
     "text": [
      "oh my lovely friend  Abdullah I would like you to come on my graduation ceremony\n",
      "Saboor I would like you to invite in my graduation ceremony\n",
      "oh my lovely friend  Umber I would like you to come on my graduation ceremony\n",
      "oh my lovely friend  Ezen I would like you to come on my graduation ceremony\n",
      "oh my lovely friend  Izhan I would like you to come on my graduation ceremony\n",
      "oh my lovely friend  Omer I would like you to come on my graduation ceremony\n",
      "Mujeeb I would like you to invite in my graduation ceremony\n",
      "Shehreyar I would like you to invite in my graduation ceremony\n",
      "Wasim I would like you to invite in my graduation ceremony\n"
     ]
    }
   ],
   "source": [
    "tup_le=('Abdullah','Saboor','Umber','Ezen','Izhan','Omer','Mujeeb','Shehreyar','Wasim')\n",
    "vowels=['A','E','I','O','U']\n",
    "for  i  in tup_le:\n",
    "    if i[0] in ['a','e','i','o','u','A','E','I','O','U']:\n",
    "        print(\"oh my lovely friend \",i,\"I would like you to come on my graduation ceremony\")\n",
    "    else:\n",
    "        print(i,\"I would like you to invite in my graduation ceremony\")\n",
    "    "
   ]
  },
  {
   "cell_type": "code",
   "execution_count": null,
   "metadata": {},
   "outputs": [],
   "source": []
  }
 ],
 "metadata": {
  "kernelspec": {
   "display_name": "Python 3",
   "language": "python",
   "name": "python3"
  },
  "language_info": {
   "codemirror_mode": {
    "name": "ipython",
    "version": 3
   },
   "file_extension": ".py",
   "mimetype": "text/x-python",
   "name": "python",
   "nbconvert_exporter": "python",
   "pygments_lexer": "ipython3",
   "version": "3.7.0"
  }
 },
 "nbformat": 4,
 "nbformat_minor": 2
}
