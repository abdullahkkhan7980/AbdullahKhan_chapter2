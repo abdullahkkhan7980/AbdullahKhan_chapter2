{
 "cells": [
  {
   "cell_type": "markdown",
   "metadata": {},
   "source": [
    "# Python User Define Function Practice Activity - 2 "
   ]
  },
  {
   "cell_type": "markdown",
   "metadata": {},
   "source": [
    "Asst. Prof. Syed Faisal Ali              $\\;\\;\\;\\;\\;\\;$              Programming Fundamentals - FALL 2019 $\\;\\;\\;\\;\\;\\;$ Software Engineering                     $\\;\\;\\;\\;\\;\\;$                   Dated: 27 Nov 2019"
   ]
  },
  {
   "cell_type": "markdown",
   "metadata": {},
   "source": [
    "Question 1: Create a function to find the following:\n",
    "If the base of triangle is 3 cm long and its equilateral triangle and the radius of circle is 1.5 cm then find the area of triangle shaded. \n"
   ]
  },
  {
   "cell_type": "markdown",
   "metadata": {},
   "source": [
    "![proj](q1.jpg)"
   ]
  },
  {
   "cell_type": "code",
   "execution_count": 11,
   "metadata": {},
   "outputs": [
    {
     "name": "stdout",
     "output_type": "stream",
     "text": [
      "The area of shaded region is :16.31cm³\n",
      "10 min taken\n"
     ]
    }
   ],
   "source": [
    "from math import pi,sqrt\n",
    "def surfacearea():\n",
    "    base = 3\n",
    "    radius = 1.5\n",
    "    height = sqrt(base**2-radius**2)\n",
    "    area_1 =  6 * (.5 * base * height)\n",
    "    area_2 =  pi * radius**2\n",
    "    shaded_R = area_1-area_2\n",
    "    print(\"The area of shaded region is :{0:.{1}f}cm\\u00b3\".format(shaded_R,2))\n",
    "surfacearea()\n",
    "print(\"10 min taken\")"
   ]
  },
  {
   "cell_type": "markdown",
   "metadata": {},
   "source": [
    "Question 2: Create a function which can read a dictionary of your family members such as 5 members. \n",
    "1 Abbu, 1 Ammi, 2 Brothers 1 Sister. Now feed this data in dictionary in terms of name and relations.\n",
    "The UDF will ask findrelation() in this you will enter Brother it will return the names of two brothers you have inserted. In case if the relation is not found it will return “Sorry the relation doesn’t exist in your family.” \n"
   ]
  },
  {
   "cell_type": "code",
   "execution_count": 12,
   "metadata": {},
   "outputs": [
    {
     "name": "stdout",
     "output_type": "stream",
     "text": [
      "['Anum']\n",
      "['Asim Azhar']\n",
      "['Shazia']\n",
      "['Abdullah', 'Arham']\n",
      "20 min taken \n"
     ]
    }
   ],
   "source": [
    "def exactrelation(Relation):\n",
    "    family = {'mother' : ['Shazia'] , 'father' : ['Asim Azhar'] ,'brothers' : ['Abdullah','Arham'] , 'sister' : ['Anum']  }\n",
    "    if Relation.lower() in family:\n",
    "        print(family.get(Relation.lower()))\n",
    "    else:\n",
    "        print(\"Sorry Relation Does not exist in your family\")\n",
    "exactrelation('SISTER')\n",
    "exactrelation('father')\n",
    "exactrelation('mother')\n",
    "exactrelation('brothers')\n",
    "print(\"20 min taken \")"
   ]
  },
  {
   "cell_type": "markdown",
   "metadata": {},
   "source": [
    "Question 3: Create a function to find the following:\n",
    "If the base of triangle is 5 cm long and its equilateral triangle and the radius of circle is 2.25 cm then find the area of triangle shaded. \n"
   ]
  },
  {
   "cell_type": "markdown",
   "metadata": {},
   "source": [
    "![proj](q3.jpg)"
   ]
  },
  {
   "cell_type": "code",
   "execution_count": 17,
   "metadata": {},
   "outputs": [
    {
     "name": "stdout",
     "output_type": "stream",
     "text": [
      "The area of shaded region is :11.163cm³\n",
      "5 min taken\n"
     ]
    }
   ],
   "source": [
    "from math import pi,sqrt\n",
    "def surfacearea():\n",
    "    base = 5\n",
    "    radius = 2.25\n",
    "    height = sqrt(base**2-radius**2)\n",
    "    area =  height*base/2\n",
    "    shaded_R = area\n",
    "    print(\"The area of shaded region is :{0:.{1}f}cm\\u00b3\".format(shaded_R,3))\n",
    "surfacearea()\n",
    "print(\"5 min taken\")"
   ]
  },
  {
   "cell_type": "markdown",
   "metadata": {},
   "source": [
    "Question 4:\n",
    "Create a function that takes a list of random numbers from users and add only those which are even. If all the numbers are odd it will return sorry no even number found.\n"
   ]
  },
  {
   "cell_type": "code",
   "execution_count": 19,
   "metadata": {},
   "outputs": [
    {
     "name": "stdout",
     "output_type": "stream",
     "text": [
      "Enter the Number : 10\n",
      "Enter the Number : 20\n",
      "Enter the Number : 30\n",
      "Enter the Number : 2\n",
      "Enter the Number : 4\n",
      "Total Sum of Even Numbers Only =  66\n"
     ]
    }
   ],
   "source": [
    "def even():\n",
    "    x = [0,0,0,0,0,0]\n",
    "    sum = 0\n",
    "    for i in range(5):\n",
    "        x[i]=int(input(\"Enter the Number : \"))\n",
    "    \n",
    "    for i in x:\n",
    "        if i%2==0:\n",
    "            sum = sum + i\n",
    "    print(\"Total Sum of Even Numbers Only = \",sum)\n",
    "even()"
   ]
  },
  {
   "cell_type": "markdown",
   "metadata": {},
   "source": [
    "Question 5:\n",
    "Write a function which can take a list of numbers and it will return sorted list.\n"
   ]
  },
  {
   "cell_type": "code",
   "execution_count": 26,
   "metadata": {},
   "outputs": [
    {
     "name": "stdout",
     "output_type": "stream",
     "text": [
      "Enter the number of your choice :5\n",
      "Enter the number of your choice :4\n",
      "Enter the number of your choice :3\n",
      "Enter the number of your choice :2\n",
      "Enter the number of your choice :1\n",
      "[1, 2, 3, 4, 5]\n"
     ]
    }
   ],
   "source": [
    "def sort():\n",
    "    a =[0,0,0,0,0]\n",
    "    sum = 0\n",
    "    for i in range(5):\n",
    "        a[i]=int(input(\"Enter the number of your choice :\"))\n",
    "    a.sort()\n",
    "    print(a)\n",
    "sort()"
   ]
  },
  {
   "cell_type": "markdown",
   "metadata": {},
   "source": [
    "Question 6:\n",
    "Write a function that will take the radius and return the perimeter and area of circle with 5% increment.\n"
   ]
  },
  {
   "cell_type": "code",
   "execution_count": 34,
   "metadata": {},
   "outputs": [
    {
     "name": "stdout",
     "output_type": "stream",
     "text": [
      "Original Area : 28.27cm² \n",
      "Area with 5% increment : 29.69cm \n",
      "Original Perimeter : 18.85cm² \n",
      "Perimeter with 5% increment : 19.79cm \n"
     ]
    }
   ],
   "source": [
    "from math import pi\n",
    "def increment(r):\n",
    "    AreaO = pi * r**2\n",
    "    PerimeterO = 2 * pi * r\n",
    "    AreaI= (AreaO/100)*105\n",
    "    PerimeterI = (PerimeterO/100)*105\n",
    "    print(\"Original Area : {0:.{1}f}cm\\u00b2 \".format(AreaO,2))\n",
    "    print(\"Area with 5% increment : {0:.{1}f}cm \".format(AreaI,2))\n",
    "    print(\"Original Perimeter : {0:.{1}f}cm\\u00b2 \".format(PerimeterO,2))\n",
    "    print(\"Perimeter with 5% increment : {0:.{1}f}cm \".format(PerimeterI,2))\n",
    "increment(3)"
   ]
  },
  {
   "cell_type": "markdown",
   "metadata": {},
   "source": [
    "Question 7:\n",
    "Write a function that will take the strings as argument and return number of vowels and consonants.\n"
   ]
  },
  {
   "cell_type": "code",
   "execution_count": 35,
   "metadata": {},
   "outputs": [
    {
     "name": "stdout",
     "output_type": "stream",
     "text": [
      "Enter a String : Abdullah\n",
      "Total Number of Vowels :  3\n",
      "Total Number of Constant :  5\n"
     ]
    }
   ],
   "source": [
    "def counting():\n",
    "    total = 0\n",
    "    count = 0\n",
    "    string = input(\"Enter a String : \")\n",
    "    \n",
    "    for i in string:\n",
    "        if i in 'AEIOUaeiou':\n",
    "            total = total + 1\n",
    "        else:\n",
    "            count = count + 1\n",
    "    print(\"Total Number of Vowels : \",total)\n",
    "    print(\"Total Number of Constant : \",count)\n",
    "counting()"
   ]
  },
  {
   "cell_type": "markdown",
   "metadata": {},
   "source": [
    "Question 8:\n",
    "Write a function that will take length and breadth for a rectangle and return perimeter and area of rectangle with 8% increment.\n"
   ]
  },
  {
   "cell_type": "code",
   "execution_count": 51,
   "metadata": {},
   "outputs": [
    {
     "name": "stdout",
     "output_type": "stream",
     "text": [
      "Enter length of Rectangle : 5\n",
      "Enter Bredth of Rectangle : 6\n",
      "Original Area : 30.00cm² \n",
      "Area with 5% increment : 32.40cm \n",
      "\n",
      "\n",
      "Original Perimeter : 22.00cm² \n",
      "Perimeter with 5% increment : 23.76cm \n",
      "Enter length of Rectangle : 6\n",
      "Enter Bredth of Rectangle : 7\n"
     ]
    },
    {
     "ename": "UnboundLocalError",
     "evalue": "local variable 'perimeter_2' referenced before assignment",
     "output_type": "error",
     "traceback": [
      "\u001b[1;31m---------------------------------------------------------------------------\u001b[0m",
      "\u001b[1;31mUnboundLocalError\u001b[0m                         Traceback (most recent call last)",
      "\u001b[1;32m<ipython-input-51-e80116ed9600>\u001b[0m in \u001b[0;36m<module>\u001b[1;34m()\u001b[0m\n\u001b[0;32m     10\u001b[0m \u001b[0mprint\u001b[0m\u001b[1;33m(\u001b[0m\u001b[1;34m\"Original Perimeter : {0:.{1}f}cm\\u00b2 \"\u001b[0m\u001b[1;33m.\u001b[0m\u001b[0mformat\u001b[0m\u001b[1;33m(\u001b[0m\u001b[0mPerimeterO\u001b[0m\u001b[1;33m,\u001b[0m\u001b[1;36m2\u001b[0m\u001b[1;33m)\u001b[0m\u001b[1;33m)\u001b[0m\u001b[1;33m\u001b[0m\u001b[0m\n\u001b[0;32m     11\u001b[0m \u001b[0mprint\u001b[0m\u001b[1;33m(\u001b[0m\u001b[1;34m\"Perimeter with 5% increment : {0:.{1}f}cm \"\u001b[0m\u001b[1;33m.\u001b[0m\u001b[0mformat\u001b[0m\u001b[1;33m(\u001b[0m\u001b[0mPerimeterI\u001b[0m\u001b[1;33m,\u001b[0m\u001b[1;36m2\u001b[0m\u001b[1;33m)\u001b[0m\u001b[1;33m)\u001b[0m\u001b[1;33m\u001b[0m\u001b[0m\n\u001b[1;32m---> 12\u001b[1;33m \u001b[0mincrement\u001b[0m\u001b[1;33m(\u001b[0m\u001b[1;33m)\u001b[0m\u001b[1;33m\u001b[0m\u001b[0m\n\u001b[0m",
      "\u001b[1;32m<ipython-input-49-bdba8398efec>\u001b[0m in \u001b[0;36mincrement\u001b[1;34m()\u001b[0m\n\u001b[0;32m      5\u001b[0m     \u001b[0mperimeter_1\u001b[0m \u001b[1;33m=\u001b[0m \u001b[1;36m2\u001b[0m\u001b[1;33m*\u001b[0m\u001b[0ml\u001b[0m \u001b[1;33m+\u001b[0m \u001b[1;36m2\u001b[0m\u001b[1;33m*\u001b[0m\u001b[0mb\u001b[0m\u001b[1;33m\u001b[0m\u001b[0m\n\u001b[0;32m      6\u001b[0m     \u001b[0marea_2\u001b[0m\u001b[1;33m=\u001b[0m \u001b[1;33m(\u001b[0m\u001b[0marea_1\u001b[0m\u001b[1;33m/\u001b[0m\u001b[1;36m100\u001b[0m\u001b[1;33m)\u001b[0m\u001b[1;33m*\u001b[0m\u001b[1;36m108\u001b[0m\u001b[1;33m\u001b[0m\u001b[0m\n\u001b[1;32m----> 7\u001b[1;33m     \u001b[0mperimeter_2\u001b[0m \u001b[1;33m=\u001b[0m \u001b[1;33m(\u001b[0m\u001b[0mperimeter_2\u001b[0m\u001b[1;33m/\u001b[0m\u001b[1;36m100\u001b[0m\u001b[1;33m)\u001b[0m\u001b[1;33m*\u001b[0m\u001b[1;36m108\u001b[0m\u001b[1;33m\u001b[0m\u001b[0m\n\u001b[0m\u001b[0;32m      8\u001b[0m     \u001b[0mprint\u001b[0m\u001b[1;33m(\u001b[0m\u001b[1;34m\"Original Area : {0:.{1}f}cm\\u00b2 \"\u001b[0m\u001b[1;33m.\u001b[0m\u001b[0mformat\u001b[0m\u001b[1;33m(\u001b[0m\u001b[0marea_1\u001b[0m\u001b[1;33m,\u001b[0m\u001b[1;36m2\u001b[0m\u001b[1;33m)\u001b[0m\u001b[1;33m)\u001b[0m\u001b[1;33m\u001b[0m\u001b[0m\n\u001b[0;32m      9\u001b[0m     \u001b[0mprint\u001b[0m\u001b[1;33m(\u001b[0m\u001b[1;34m\"Area with 5% increment : {0:.{1}f}cm \"\u001b[0m\u001b[1;33m.\u001b[0m\u001b[0mformat\u001b[0m\u001b[1;33m(\u001b[0m\u001b[0marea_2\u001b[0m\u001b[1;33m,\u001b[0m\u001b[1;36m2\u001b[0m\u001b[1;33m)\u001b[0m\u001b[1;33m)\u001b[0m\u001b[1;33m\u001b[0m\u001b[0m\n",
      "\u001b[1;31mUnboundLocalError\u001b[0m: local variable 'perimeter_2' referenced before assignment"
     ]
    }
   ],
   "source": [
    "    l = int(input(\"Enter length of Rectangle : \"))\n",
    "    b = int(input(\"Enter Breadth of Rectangle : \"))\n",
    "    AreaO = l * b\n",
    "    PerimeterO = 2*l + 2*b\n",
    "    AreaI= (AreaO/100)*108\n",
    "    PerimeterI = (PerimeterO/100)*108\n",
    "    print(\"Original Area : {0:.{1}f}cm\\u00b2 \".format(AreaO,2))\n",
    "    print(\"Area with 5% increment : {0:.{1}f}cm \".format(AreaI,2))\n",
    "    print(\"\\n\")\n",
    "    print(\"Original Perimeter : {0:.{1}f}cm\\u00b2 \".format(PerimeterO,2))\n",
    "    print(\"Perimeter with 5% increment : {0:.{1}f}cm \".format(PerimeterI,2))\n",
    "increment()"
   ]
  },
  {
   "cell_type": "markdown",
   "metadata": {},
   "source": [
    "Question 9:\n",
    "Write a function that can take the numbers in strings. From string find which number is even and which one is odd. Save them in two different lists and generate the result.\n"
   ]
  },
  {
   "cell_type": "code",
   "execution_count": 52,
   "metadata": {},
   "outputs": [
    {
     "name": "stdout",
     "output_type": "stream",
     "text": [
      "Enter a Number : 2\n",
      "Enter a Number : 4\n",
      "Enter a Number : 6\n",
      "Enter a Number : 8\n",
      "Enter a Number : 9\n",
      "Enter a Number : 10\n",
      "Even Numbers :  ['2', '4', '6', '8', '10']\n",
      "Odd Numbers  :  ['9']\n"
     ]
    }
   ],
   "source": [
    "def evod():\n",
    "    x = []\n",
    "    y = []\n",
    "    for i in range(6):\n",
    "        num = str(input(\"Enter a Number : \"))\n",
    "        if int(num)%2==0:\n",
    "            x.append(num)\n",
    "        else:\n",
    "            y.append(num)\n",
    "    print(\"Even Numbers : \",x)\n",
    "    print(\"Odd Numbers  : \",y)\n",
    "evod()"
   ]
  },
  {
   "cell_type": "markdown",
   "metadata": {},
   "source": [
    "Question 10:\n",
    "Write a function which will take the string from the user and return how many alphabets have been used in it and which alphabets are missing.\n"
   ]
  },
  {
   "cell_type": "code",
   "execution_count": 42,
   "metadata": {},
   "outputs": [
    {
     "name": "stdout",
     "output_type": "stream",
     "text": [
      "Number of Alphabets Used :  6\n",
      " Alphabets not used :\n",
      "['c', 'e', 'f', 'g', 'i', 'j', 'k', 'm', 'n', 'o', 'p', 'q', 'r', 's', 't', 'v', 'w', 'x', 'y', 'z']\n"
     ]
    }
   ],
   "source": [
    "def counter(y):\n",
    "    count = 0\n",
    "    x = ['a','b','c','d','e','f','g','h','i','j','k','l','m','n','o','p','q','r','s','t','u','v','w','x','y','z']\n",
    "    y.casefold()\n",
    "    z=['']\n",
    "    for i in y:\n",
    "        if i in x and i not in z:\n",
    "            count = count + 1 \n",
    "            c = z.append(i)\n",
    "            x.remove(i)\n",
    "    print(\"Number of Alphabets Used : \" ,count)\n",
    "    print(\" Alphabets not used :\")\n",
    "    print(x)\n",
    "    \n",
    "counter('Abdullah')"
   ]
  },
  {
   "cell_type": "markdown",
   "metadata": {},
   "source": [
    "Question 11:\n",
    "Write a function that will take verbs in words and return a list of verbs with continuous tense by adding (ing) at the end of each verb.\n"
   ]
  },
  {
   "cell_type": "code",
   "execution_count": 43,
   "metadata": {},
   "outputs": [
    {
     "name": "stdout",
     "output_type": "stream",
     "text": [
      "Enter verbs : go\n",
      "Enter verbs : flow\n",
      "Enter verbs : blow\n",
      "Enter verbs : drill\n",
      "['going', 'flowing', 'blowing', 'drilling']\n"
     ]
    }
   ],
   "source": [
    "def countinuous():\n",
    "    verb = ['','','','']\n",
    "    y = ['','','','']\n",
    "    for i in range(4):\n",
    "        verb[i] = input(\"Enter verbs : \")\n",
    "    \n",
    "    k = 0\n",
    "    for x in verb:\n",
    "        y[k]=x+\"ing\"\n",
    "        k = k+1\n",
    "    print(y)\n",
    "countinuous() "
   ]
  },
  {
   "cell_type": "markdown",
   "metadata": {},
   "source": [
    "Question 12:\n",
    "Make a function which can take two radius of circles and find the areas of it and subtract smaller one from larger one and tell the remaining area of circle.\n"
   ]
  },
  {
   "cell_type": "code",
   "execution_count": 44,
   "metadata": {},
   "outputs": [
    {
     "name": "stdout",
     "output_type": "stream",
     "text": [
      "Enter radius  of Circle 1 : 2\n",
      "Enter radius of Circle 2: 4\n",
      "Area of Circle = 12.57cm²\n",
      "Area of Circle = 50.27cm²\n",
      "Subtracting Area of Square from Area of Circle , Remaining Area is 37.70cm²\n"
     ]
    }
   ],
   "source": [
    "from math import pi\n",
    "def RemainingArea():\n",
    "    radius1=eval(input(\"Enter radius  of Circle 1 : \"))\n",
    "    radius2=eval(input(\"Enter radius of Circle 2: \"))\n",
    "    \n",
    "    Acircle1 = pi * radius1**2\n",
    "    print(\"Area of Circle = {0:.{1}f}cm\\u00b2\".format(Acircle1,2))\n",
    "    Acircle2 = pi * radius2**2\n",
    "    print(\"Area of Circle = {0:.{1}f}cm\\u00b2\".format(Acircle2,2))\n",
    "    \n",
    "    if Acircle1 > Acircle2 :\n",
    "        Remaining = ACircle1-Acircle2\n",
    "        print(\"Subtracting Area of Circle from Area of Square , Remaining Area is {0:.{1}f}cm\\u00b2\".format(Remaining,2))\n",
    "    elif Acircle2 > Acircle1 :\n",
    "        Remaining = Acircle2-Acircle1\n",
    "        print(\"Subtracting Area of Square from Area of Circle , Remaining Area is {0:.{1}f}cm\\u00b2\".format(Remaining,2))\n",
    "\n",
    "RemainingArea()"
   ]
  },
  {
   "cell_type": "markdown",
   "metadata": {},
   "source": [
    "Question 13:\n",
    "Write a function that will take a string and calculate number of Upper case letters and lower case letters.\n"
   ]
  },
  {
   "cell_type": "code",
   "execution_count": 45,
   "metadata": {},
   "outputs": [
    {
     "name": "stdout",
     "output_type": "stream",
     "text": [
      "Enter a String : Abdullah\n",
      "Total Number of Uppercase :  1\n",
      "Total Number of Lowercase :  7\n"
     ]
    }
   ],
   "source": [
    "def counting():\n",
    "    total = 0\n",
    "    count = 0\n",
    "    string = input(\"Enter a String : \")\n",
    "    \n",
    "    for i in string:\n",
    "        if i in 'ABCDEFGHIJKLMNOPQRSTUVWXYZ':\n",
    "            total = total + 1\n",
    "        else:\n",
    "            if i in 'abbcdefghijklmnopqrstuvwxyz':\n",
    "                count = count + 1\n",
    "    print(\"Total Number of Uppercase : \",total)\n",
    "    print(\"Total Number of Lowercase : \",count)\n",
    "counting()"
   ]
  },
  {
   "cell_type": "markdown",
   "metadata": {},
   "source": [
    "Question 14:\n",
    "Write a function which will take length and breadth of two rectangles. Subtract the smaller rectangle from the larger rectangle and return the area left behind.\n"
   ]
  },
  {
   "cell_type": "code",
   "execution_count": 46,
   "metadata": {},
   "outputs": [
    {
     "name": "stdout",
     "output_type": "stream",
     "text": [
      "Enter Length of Rectangle 1 : 2\n",
      "Enter Bredth of Rectangle 1 : 3\n",
      "Enter Length of Rectangle 2 : 4\n",
      "Enter Bredth of Rectangle 2 : 6\n",
      "Area of Bigger rectangle subtracted from smaller Rectangle : 18.00cm²\n"
     ]
    }
   ],
   "source": [
    "def area():\n",
    "    l1=eval(input(\"Enter Length of Rectangle 1 : \"))\n",
    "    b1=eval(input(\"Enter Bredth of Rectangle 1 : \"))\n",
    "    l2=eval(input(\"Enter Length of Rectangle 2 : \"))\n",
    "    b2=eval(input(\"Enter Bredth of Rectangle 2 : \"))\n",
    "    area1 = l1*b1\n",
    "    area2 = l2*b2\n",
    "    if area1 > area2:\n",
    "        Remaining = area1-area2\n",
    "        print(\"Area of Bigger rectangle subtracted from smaller Rectangle : {0:.{1}f}cm\\u00b2\".format(Remaining,2))\n",
    "    if area2 > area1:\n",
    "        Remaining = area2-area1\n",
    "        print(\"Area of Bigger rectangle subtracted from smaller Rectangle : {0:.{1}f}cm\\u00b2\".format(Remaining,2))  \n",
    "area()"
   ]
  },
  {
   "cell_type": "markdown",
   "metadata": {},
   "source": [
    "Question 15:\n",
    "Create a function that can add the fractions in series such as 1 to 8 = 1/8+1/7+1/6+1/5 …… ½ and return the result in fraction not in decimal.\n"
   ]
  },
  {
   "cell_type": "code",
   "execution_count": null,
   "metadata": {},
   "outputs": [],
   "source": []
  },
  {
   "cell_type": "markdown",
   "metadata": {},
   "source": [
    "Question 16:\n",
    "Write a function which will take height and base for a triangle and \n"
   ]
  },
  {
   "cell_type": "code",
   "execution_count": null,
   "metadata": {},
   "outputs": [],
   "source": []
  },
  {
   "cell_type": "markdown",
   "metadata": {},
   "source": [
    "Question 17:\n",
    "Write a function which will take a list of fruits names. The function will return how many alphabets are repetitive in the names of fruits and how many are unique letters.\n"
   ]
  },
  {
   "cell_type": "code",
   "execution_count": 47,
   "metadata": {},
   "outputs": [
    {
     "name": "stdout",
     "output_type": "stream",
     "text": [
      "Enter Fruit Name : mango\n",
      "Enter Fruit Name : aple\n",
      "Enter Fruit Name : orange\n",
      "Enter Fruit Name : kiwi\n",
      "Number of Unique letter :  4\n",
      "Number of Repetitive Letter :  15\n"
     ]
    }
   ],
   "source": [
    "def counter():\n",
    "    j = ['']\n",
    "    count = 0\n",
    "    total = 0\n",
    "    fruits=['','','','']\n",
    "    for i in range(4):\n",
    "        fruits[i]=input(\"Enter Fruit Name : \")\n",
    "    for i in fruits:\n",
    "        for x in i :\n",
    "            if i in j:\n",
    "                count = count + 1 \n",
    "            if i not in j:\n",
    "                j.append(i)\n",
    "                total = total + 1 \n",
    "    print(\"Number of Unique letter : \",total)\n",
    "    print(\"Number of Repetitive Letter : \",count)\n",
    "counter()            "
   ]
  },
  {
   "cell_type": "markdown",
   "metadata": {},
   "source": [
    "Question 18:\n",
    "Write a function that can take square length and radius of circle. Find the area of both and subtract the smallest shape from largest one and return the remaining shape area.\n"
   ]
  },
  {
   "cell_type": "code",
   "execution_count": 48,
   "metadata": {},
   "outputs": [
    {
     "name": "stdout",
     "output_type": "stream",
     "text": [
      "Enter length of square : 5\n",
      "Enter radius of Circle : 6\n",
      "Area of Square = 10.00cm²\n",
      "Area of Circle = 113.10cm²\n",
      "Subtracting Area of Square from Area of Circle , Remaining Area is 103.10cm²\n"
     ]
    }
   ],
   "source": [
    "def RemainingArea():\n",
    "    length=eval(input(\"Enter length of square : \"))\n",
    "    radius=eval(input(\"Enter radius of Circle : \"))\n",
    "    #Area of Square\n",
    "    Asquare = 2 * length\n",
    "    print(\"Area of Square = {0:.{1}f}cm\\u00b2\".format(Asquare,2))\n",
    "    Acircle = pi * radius**2\n",
    "    print(\"Area of Circle = {0:.{1}f}cm\\u00b2\".format(Acircle,2))\n",
    "    \n",
    "    if Asquare > Acircle :\n",
    "        Remaining = Asquare-Acircle\n",
    "        print(\"Subtracting Area of Circle from Area of Square , Remaining Area is {0:.{1}f}cm\\u00b2\".format(Remaining,2))\n",
    "    elif Acircle > Asquare :\n",
    "        Remaining = Acircle-Asquare\n",
    "        print(\"Subtracting Area of Square from Area of Circle , Remaining Area is {0:.{1}f}cm\\u00b2\".format(Remaining,2))\n",
    "RemainingArea()"
   ]
  },
  {
   "cell_type": "code",
   "execution_count": null,
   "metadata": {},
   "outputs": [],
   "source": []
  }
 ],
 "metadata": {
  "kernelspec": {
   "display_name": "Python 3",
   "language": "python",
   "name": "python3"
  },
  "language_info": {
   "codemirror_mode": {
    "name": "ipython",
    "version": 3
   },
   "file_extension": ".py",
   "mimetype": "text/x-python",
   "name": "python",
   "nbconvert_exporter": "python",
   "pygments_lexer": "ipython3",
   "version": "3.7.0"
  }
 },
 "nbformat": 4,
 "nbformat_minor": 2
}
