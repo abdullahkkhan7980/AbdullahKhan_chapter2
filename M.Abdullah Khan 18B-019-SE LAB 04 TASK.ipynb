{
 "cells": [
  {
   "cell_type": "code",
   "execution_count": 1,
   "metadata": {},
   "outputs": [
    {
     "name": "stdout",
     "output_type": "stream",
     "text": [
      "Enter The value of a :1\n",
      "Enter the value of b :2\n",
      "Enter the value of c :1\n",
      "The Value of Quadratic formula is:  -1.0\n",
      "The Value of Quadratic formula is:  -1.0\n"
     ]
    }
   ],
   "source": [
    "# Question n0 :1\n",
    "from math import sqrt\n",
    "a = int(input(\"Enter The value of a :\"))\n",
    "b = int(input(\"Enter the value of b :\"))\n",
    "c = int(input(\"Enter the value of c :\"))\n",
    "if a==0:\n",
    "    print(\"Sorry denominator cannot be zero\")\n",
    "else:\n",
    "    x = (- b + sqrt(b**2 - 4*a*c))/2*a\n",
    "    x2 =(- b -sqrt(b**2 - 4*a*c))/2*a\n",
    "    print(\"The Value of Quadratic formula is: \",x)\n",
    "    print(\"The Value of Quadratic formula is: \",x2)"
   ]
  },
  {
   "cell_type": "code",
   "execution_count": 1,
   "metadata": {},
   "outputs": [
    {
     "name": "stdout",
     "output_type": "stream",
     "text": [
      "-----------------------------------------------------------------------------------------------------\n",
      "INTER FINAL RESULT 2018\n",
      "-----------------------------------------------------------------------------------------------------\n",
      "Enter your  Full Name : Abdullah Khan\n",
      "Enter your Father Name : M.Asim Azhar Khan\n",
      "Enter Your Seat Number no : ST-18056\n",
      "Enter your Roll no : 019\n",
      "-----------------------------------------------------------------------------------------------------\n",
      "TOTAL MARKS CALCULATED \n",
      "-----------------------------------------------------------------------------------------------------\n",
      "Enter The Marks of calculus :98\n",
      "Enter The Marks of BASIC ELECRIONICS :84\n",
      "Enter The Marks of PROGRAMMING :87\n",
      "Enter The Marks of ENGLISH :88\n",
      "Enter The Marks of ICT :99\n",
      "The total obtained marks are : 456\n",
      "Percentage of Abdullah Khan is 91.2\n",
      "A-one Grade\n",
      "-----------------------------------------------------------------------------------------------------\n",
      "x-------------------------------------x\n"
     ]
    }
   ],
   "source": [
    "# Question 4\n",
    "print(\"-----------------------------------------------------------------------------------------------------\")\n",
    "print(\"INTER FINAL RESULT 2018\")\n",
    "print(\"-----------------------------------------------------------------------------------------------------\")\n",
    "    \n",
    "name = str(input(\"Enter your  Full Name : \"))\n",
    "father_name = str(input(\"Enter your Father Name : \"))\n",
    "seat_number= str(input(\"Enter Your Seat Number no : \"))\n",
    "roll_no = int(input(\"Enter your Roll no : \"))\n",
    "\n",
    "print(\"-----------------------------------------------------------------------------------------------------\")\n",
    "print(\"TOTAL MARKS CALCULATED \")\n",
    "print(\"-----------------------------------------------------------------------------------------------------\")\n",
    "calculus = int(input(\"Enter The Marks of calculus :\"))\n",
    "b_elec = int(input(\"Enter The Marks of BASIC ELECRIONICS :\"))\n",
    "prog = int(input(\"Enter The Marks of PROGRAMMING :\"))\n",
    "english= int(input(\"Enter The Marks of ENGLISH :\"))\n",
    "ict = int(input(\"Enter The Marks of ICT :\"))\n",
    "obt_marks=calculus+b_elec+english+prog+ict\n",
    "tot_marks=500\n",
    "print(\"The total obtained marks are :\",obt_marks)\n",
    "perc=obt_marks/tot_marks*100\n",
    "print(\"Percentage of\",name,\"is\",perc)\n",
    "if perc>=80:\n",
    "    print(\"A-one Grade\")\n",
    "if perc<80 and perc>=70:\n",
    "    print(\"A Grade\")\n",
    "if perc<70 and perc>=60:\n",
    "    print(\"B Grade\")\n",
    "if perc<60 and perc>=50:\n",
    "    print(\"C Grade\")\n",
    "if perc<50 and perc>=40:\n",
    "    print(\"FAIL\")\n",
    "print(\"-----------------------------------------------------------------------------------------------------\")\n",
    "print(\"x-------------------------------------x\")\n",
    "\n"
   ]
  },
  {
   "cell_type": "code",
   "execution_count": null,
   "metadata": {},
   "outputs": [],
   "source": []
  },
  {
   "cell_type": "code",
   "execution_count": 5,
   "metadata": {},
   "outputs": [
    {
     "name": "stdout",
     "output_type": "stream",
     "text": [
      "Enter the number of rows:5\n",
      "Enter the number of columns:5\n",
      "Enter the entries rowwise:\n",
      "1\n",
      "2\n",
      "3\n",
      "4\n",
      "5\n",
      "2\n",
      "4\n",
      "6\n",
      "8\n",
      "10\n",
      "3\n",
      "6\n",
      "9\n",
      "12\n",
      "15\n",
      "4\n",
      "8\n",
      "12\n",
      "16\n",
      "20\n",
      "5\n",
      "10\n",
      "15\n",
      "20\n",
      "25\n",
      "1 2 3 4 5 \n",
      "2 4 6 8 10 \n",
      "3 6 9 12 15 \n",
      "4 8 12 16 20 \n",
      "5 10 15 20 25 \n"
     ]
    }
   ],
   "source": [
    "\n",
    "# Question no:5 \n",
    "R = int(input(\"Enter the number of rows:\")) \n",
    "C = int(input(\"Enter the number of columns:\")) \n",
    "  \n",
    "# Initialize matrix \n",
    "matrix = [] \n",
    "print(\"Enter the entries rowwise:\") \n",
    "  \n",
    "# For user input \n",
    "for i in range(R):          # A for loop for row entries \n",
    "    a =[] \n",
    "    for j in range(C):      # A for loop for column entries \n",
    "         a.append(int(input())) \n",
    "    matrix.append(a) \n",
    "  \n",
    "# For printing the matrix \n",
    "for i in range(R): \n",
    "    for j in range(C): \n",
    "        print(matrix[i][j], end = \" \") \n",
    "    print() \n"
   ]
  },
  {
   "cell_type": "code",
   "execution_count": 14,
   "metadata": {},
   "outputs": [
    {
     "name": "stdout",
     "output_type": "stream",
     "text": [
      "Enter Your Name:Mom\n",
      "The string is palindrome\n"
     ]
    }
   ],
   "source": [
    "#Question 3\n",
    "a= input(\"Enter Your Name:\")\n",
    "a=a.casefold()\n",
    "b=reversed(a)\n",
    "if list(a)==list(b):\n",
    "       print(\"The string is palindrome\")\n",
    "else:\n",
    "       print(\"The string is not a palindrome\")"
   ]
  },
  {
   "cell_type": "code",
   "execution_count": 28,
   "metadata": {},
   "outputs": [
    {
     "name": "stdout",
     "output_type": "stream",
     "text": [
      "[114, 160, 60, 27]\n",
      "[74, 97, 73, 14]\n",
      "[119, 157, 112, 23]\n"
     ]
    }
   ],
   "source": [
    "# Question No 6: Add Two Matrices\n",
    "\n",
    "# Question No 6: Add Two Matrices\n",
    "\n",
    "# 3x3 matrix\n",
    "X = [[12,7,3],\n",
    "    [4 ,5,6],\n",
    "    [7 ,8,9]]\n",
    "# 3x4 matrix\n",
    "Y = [[5,8,1,2],\n",
    "    [6,7,3,0],\n",
    "    [4,5,9,1]]\n",
    "# result is 3x4\n",
    "result = [[0,0,0,0],\n",
    "         [0,0,0,0],\n",
    "         [0,0,0,0]]\n",
    "# iterate through rows of X\n",
    "for i in range(len(X)):\n",
    "   # iterate through columns of Y\n",
    "   for j in range(len(Y[0])):\n",
    "       # iterate through rows of Y\n",
    "       for k in range(len(Y)):\n",
    "           result[i][j] += X[i][k] * Y[k][j]\n",
    "for r in result:\n",
    "   print(r)\n",
    "   \n",
    "\n",
    "\n",
    "\n"
   ]
  },
  {
   "cell_type": "code",
   "execution_count": 29,
   "metadata": {},
   "outputs": [
    {
     "name": "stdout",
     "output_type": "stream",
     "text": [
      "[37, 42, 35, 25]\n",
      "[30, 35, 28, 18]\n",
      "[39, 44, 37, 27]\n"
     ]
    }
   ],
   "source": [
    "# 3x3 matrix\n",
    "X = [[12,7,3],\n",
    "    [4 ,5,6],\n",
    "    [7 ,8,9]]\n",
    "# 3x4 matrix\n",
    "Y = [[5,8,1,2],\n",
    "    [6,7,3,0],\n",
    "    [4,5,9,1]]\n",
    "# result is 3x4\n",
    "result = [[0,0,0,0],\n",
    "         [0,0,0,0],\n",
    "         [0,0,0,0]]\n",
    "# iterate through rows of X\n",
    "for i in range(len(X)):\n",
    "   # iterate through columns of Y\n",
    "   for j in range(len(Y[0])):\n",
    "       # iterate through rows of Y\n",
    "       for k in range(len(Y)):\n",
    "           result[i][j] += X[i][k] + Y[k][j]\n",
    "for r in result:\n",
    "   print(r)"
   ]
  },
  {
   "cell_type": "code",
   "execution_count": null,
   "metadata": {},
   "outputs": [],
   "source": []
  }
 ],
 "metadata": {
  "kernelspec": {
   "display_name": "Python 3",
   "language": "python",
   "name": "python3"
  },
  "language_info": {
   "codemirror_mode": {
    "name": "ipython",
    "version": 3
   },
   "file_extension": ".py",
   "mimetype": "text/x-python",
   "name": "python",
   "nbconvert_exporter": "python",
   "pygments_lexer": "ipython3",
   "version": "3.7.0"
  }
 },
 "nbformat": 4,
 "nbformat_minor": 2
}
